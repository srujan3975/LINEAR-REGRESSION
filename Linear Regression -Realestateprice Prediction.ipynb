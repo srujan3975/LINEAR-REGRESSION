{
 "cells": [
  {
   "cell_type": "markdown",
   "metadata": {
    "papermill": {
     "duration": 0.017566,
     "end_time": "2020-12-29T13:52:40.966337",
     "exception": false,
     "start_time": "2020-12-29T13:52:40.948771",
     "status": "completed"
    },
    "tags": []
   },
   "source": [
    "#  REAL ESTATE\n",
    "\n",
    "![](http://encrypted-tbn0.gstatic.com/images?q=tbn:ANd9GcQRAFBXDVOYkrh5SRy3u__lqWujfgKk0PT_hA&usqp=CAU)\n",
    "\n"
   ]
  },
  {
   "cell_type": "markdown",
   "metadata": {
    "papermill": {
     "duration": 0.016415,
     "end_time": "2020-12-29T13:52:40.999654",
     "exception": false,
     "start_time": "2020-12-29T13:52:40.983239",
     "status": "completed"
    },
    "tags": []
   },
   "source": [
    "# Importing Libraries"
   ]
  },
  {
   "cell_type": "code",
   "execution_count": 1,
   "metadata": {
    "_cell_guid": "b1076dfc-b9ad-4769-8c92-a6c4dae69d19",
    "_uuid": "8f2839f25d086af736a60e9eeb907d3b93b6e0e5",
    "execution": {
     "iopub.execute_input": "2020-12-29T13:52:41.037349Z",
     "iopub.status.busy": "2020-12-29T13:52:41.036342Z",
     "iopub.status.idle": "2020-12-29T13:52:42.005331Z",
     "shell.execute_reply": "2020-12-29T13:52:42.004580Z"
    },
    "papermill": {
     "duration": 0.989157,
     "end_time": "2020-12-29T13:52:42.005468",
     "exception": false,
     "start_time": "2020-12-29T13:52:41.016311",
     "status": "completed"
    },
    "tags": []
   },
   "outputs": [
    {
     "name": "stdout",
     "output_type": "stream",
     "text": [
      "/kaggle/input/real-estate-price-prediction/Real estate.csv\n"
     ]
    }
   ],
   "source": [
    "\n",
    "import numpy as np \n",
    "import pandas as pd \n",
    "import seaborn as sns\n",
    "\n",
    "import os\n",
    "for dirname, _, filenames in os.walk('/kaggle/input'):\n",
    "    for filename in filenames:\n",
    "        print(os.path.join(dirname, filename))\n",
    "\n"
   ]
  },
  {
   "cell_type": "markdown",
   "metadata": {
    "papermill": {
     "duration": 0.016798,
     "end_time": "2020-12-29T13:52:42.040371",
     "exception": false,
     "start_time": "2020-12-29T13:52:42.023573",
     "status": "completed"
    },
    "tags": []
   },
   "source": [
    "# Importing Dataset"
   ]
  },
  {
   "cell_type": "code",
   "execution_count": 2,
   "metadata": {
    "_cell_guid": "79c7e3d0-c299-4dcb-8224-4455121ee9b0",
    "_uuid": "d629ff2d2480ee46fbb7e2d37f6b5fab8052498a",
    "execution": {
     "iopub.execute_input": "2020-12-29T13:52:42.082664Z",
     "iopub.status.busy": "2020-12-29T13:52:42.081957Z",
     "iopub.status.idle": "2020-12-29T13:52:42.119986Z",
     "shell.execute_reply": "2020-12-29T13:52:42.120619Z"
    },
    "papermill": {
     "duration": 0.06269,
     "end_time": "2020-12-29T13:52:42.120787",
     "exception": false,
     "start_time": "2020-12-29T13:52:42.058097",
     "status": "completed"
    },
    "tags": []
   },
   "outputs": [
    {
     "data": {
      "text/html": [
       "<div>\n",
       "<style scoped>\n",
       "    .dataframe tbody tr th:only-of-type {\n",
       "        vertical-align: middle;\n",
       "    }\n",
       "\n",
       "    .dataframe tbody tr th {\n",
       "        vertical-align: top;\n",
       "    }\n",
       "\n",
       "    .dataframe thead th {\n",
       "        text-align: right;\n",
       "    }\n",
       "</style>\n",
       "<table border=\"1\" class=\"dataframe\">\n",
       "  <thead>\n",
       "    <tr style=\"text-align: right;\">\n",
       "      <th></th>\n",
       "      <th>No</th>\n",
       "      <th>X1 transaction date</th>\n",
       "      <th>X2 house age</th>\n",
       "      <th>X3 distance to the nearest MRT station</th>\n",
       "      <th>X4 number of convenience stores</th>\n",
       "      <th>X5 latitude</th>\n",
       "      <th>X6 longitude</th>\n",
       "      <th>Y house price of unit area</th>\n",
       "    </tr>\n",
       "  </thead>\n",
       "  <tbody>\n",
       "    <tr>\n",
       "      <th>0</th>\n",
       "      <td>1</td>\n",
       "      <td>2012.917</td>\n",
       "      <td>32.0</td>\n",
       "      <td>84.87882</td>\n",
       "      <td>10</td>\n",
       "      <td>24.98298</td>\n",
       "      <td>121.54024</td>\n",
       "      <td>37.9</td>\n",
       "    </tr>\n",
       "    <tr>\n",
       "      <th>1</th>\n",
       "      <td>2</td>\n",
       "      <td>2012.917</td>\n",
       "      <td>19.5</td>\n",
       "      <td>306.59470</td>\n",
       "      <td>9</td>\n",
       "      <td>24.98034</td>\n",
       "      <td>121.53951</td>\n",
       "      <td>42.2</td>\n",
       "    </tr>\n",
       "    <tr>\n",
       "      <th>2</th>\n",
       "      <td>3</td>\n",
       "      <td>2013.583</td>\n",
       "      <td>13.3</td>\n",
       "      <td>561.98450</td>\n",
       "      <td>5</td>\n",
       "      <td>24.98746</td>\n",
       "      <td>121.54391</td>\n",
       "      <td>47.3</td>\n",
       "    </tr>\n",
       "    <tr>\n",
       "      <th>3</th>\n",
       "      <td>4</td>\n",
       "      <td>2013.500</td>\n",
       "      <td>13.3</td>\n",
       "      <td>561.98450</td>\n",
       "      <td>5</td>\n",
       "      <td>24.98746</td>\n",
       "      <td>121.54391</td>\n",
       "      <td>54.8</td>\n",
       "    </tr>\n",
       "    <tr>\n",
       "      <th>4</th>\n",
       "      <td>5</td>\n",
       "      <td>2012.833</td>\n",
       "      <td>5.0</td>\n",
       "      <td>390.56840</td>\n",
       "      <td>5</td>\n",
       "      <td>24.97937</td>\n",
       "      <td>121.54245</td>\n",
       "      <td>43.1</td>\n",
       "    </tr>\n",
       "  </tbody>\n",
       "</table>\n",
       "</div>"
      ],
      "text/plain": [
       "   No  X1 transaction date  X2 house age  \\\n",
       "0   1             2012.917          32.0   \n",
       "1   2             2012.917          19.5   \n",
       "2   3             2013.583          13.3   \n",
       "3   4             2013.500          13.3   \n",
       "4   5             2012.833           5.0   \n",
       "\n",
       "   X3 distance to the nearest MRT station  X4 number of convenience stores  \\\n",
       "0                                84.87882                               10   \n",
       "1                               306.59470                                9   \n",
       "2                               561.98450                                5   \n",
       "3                               561.98450                                5   \n",
       "4                               390.56840                                5   \n",
       "\n",
       "   X5 latitude  X6 longitude  Y house price of unit area  \n",
       "0     24.98298     121.54024                        37.9  \n",
       "1     24.98034     121.53951                        42.2  \n",
       "2     24.98746     121.54391                        47.3  \n",
       "3     24.98746     121.54391                        54.8  \n",
       "4     24.97937     121.54245                        43.1  "
      ]
     },
     "execution_count": 2,
     "metadata": {},
     "output_type": "execute_result"
    }
   ],
   "source": [
    "df = pd.read_csv(\"/kaggle/input/real-estate-price-prediction/Real estate.csv\")\n",
    "df.head()"
   ]
  },
  {
   "cell_type": "code",
   "execution_count": 3,
   "metadata": {
    "execution": {
     "iopub.execute_input": "2020-12-29T13:52:42.160655Z",
     "iopub.status.busy": "2020-12-29T13:52:42.159910Z",
     "iopub.status.idle": "2020-12-29T13:52:42.174293Z",
     "shell.execute_reply": "2020-12-29T13:52:42.174850Z"
    },
    "papermill": {
     "duration": 0.036016,
     "end_time": "2020-12-29T13:52:42.175009",
     "exception": false,
     "start_time": "2020-12-29T13:52:42.138993",
     "status": "completed"
    },
    "tags": []
   },
   "outputs": [
    {
     "name": "stdout",
     "output_type": "stream",
     "text": [
      "<class 'pandas.core.frame.DataFrame'>\n",
      "RangeIndex: 414 entries, 0 to 413\n",
      "Data columns (total 8 columns):\n",
      " #   Column                                  Non-Null Count  Dtype  \n",
      "---  ------                                  --------------  -----  \n",
      " 0   No                                      414 non-null    int64  \n",
      " 1   X1 transaction date                     414 non-null    float64\n",
      " 2   X2 house age                            414 non-null    float64\n",
      " 3   X3 distance to the nearest MRT station  414 non-null    float64\n",
      " 4   X4 number of convenience stores         414 non-null    int64  \n",
      " 5   X5 latitude                             414 non-null    float64\n",
      " 6   X6 longitude                            414 non-null    float64\n",
      " 7   Y house price of unit area              414 non-null    float64\n",
      "dtypes: float64(6), int64(2)\n",
      "memory usage: 26.0 KB\n"
     ]
    }
   ],
   "source": [
    "df.info()"
   ]
  },
  {
   "cell_type": "markdown",
   "metadata": {
    "papermill": {
     "duration": 0.018089,
     "end_time": "2020-12-29T13:52:42.211829",
     "exception": false,
     "start_time": "2020-12-29T13:52:42.193740",
     "status": "completed"
    },
    "tags": []
   },
   "source": [
    "# Checking Correlation"
   ]
  },
  {
   "cell_type": "code",
   "execution_count": 4,
   "metadata": {
    "execution": {
     "iopub.execute_input": "2020-12-29T13:52:42.252103Z",
     "iopub.status.busy": "2020-12-29T13:52:42.251492Z",
     "iopub.status.idle": "2020-12-29T13:52:42.274084Z",
     "shell.execute_reply": "2020-12-29T13:52:42.273294Z"
    },
    "papermill": {
     "duration": 0.043847,
     "end_time": "2020-12-29T13:52:42.274218",
     "exception": false,
     "start_time": "2020-12-29T13:52:42.230371",
     "status": "completed"
    },
    "tags": []
   },
   "outputs": [
    {
     "data": {
      "text/html": [
       "<div>\n",
       "<style scoped>\n",
       "    .dataframe tbody tr th:only-of-type {\n",
       "        vertical-align: middle;\n",
       "    }\n",
       "\n",
       "    .dataframe tbody tr th {\n",
       "        vertical-align: top;\n",
       "    }\n",
       "\n",
       "    .dataframe thead th {\n",
       "        text-align: right;\n",
       "    }\n",
       "</style>\n",
       "<table border=\"1\" class=\"dataframe\">\n",
       "  <thead>\n",
       "    <tr style=\"text-align: right;\">\n",
       "      <th></th>\n",
       "      <th>No</th>\n",
       "      <th>X1 transaction date</th>\n",
       "      <th>X2 house age</th>\n",
       "      <th>X3 distance to the nearest MRT station</th>\n",
       "      <th>X4 number of convenience stores</th>\n",
       "      <th>X5 latitude</th>\n",
       "      <th>X6 longitude</th>\n",
       "      <th>Y house price of unit area</th>\n",
       "    </tr>\n",
       "  </thead>\n",
       "  <tbody>\n",
       "    <tr>\n",
       "      <th>No</th>\n",
       "      <td>1.000000</td>\n",
       "      <td>-0.048658</td>\n",
       "      <td>-0.032808</td>\n",
       "      <td>-0.013573</td>\n",
       "      <td>-0.012699</td>\n",
       "      <td>-0.010110</td>\n",
       "      <td>-0.011059</td>\n",
       "      <td>-0.028587</td>\n",
       "    </tr>\n",
       "    <tr>\n",
       "      <th>X1 transaction date</th>\n",
       "      <td>-0.048658</td>\n",
       "      <td>1.000000</td>\n",
       "      <td>0.017549</td>\n",
       "      <td>0.060880</td>\n",
       "      <td>0.009635</td>\n",
       "      <td>0.035058</td>\n",
       "      <td>-0.041082</td>\n",
       "      <td>0.087491</td>\n",
       "    </tr>\n",
       "    <tr>\n",
       "      <th>X2 house age</th>\n",
       "      <td>-0.032808</td>\n",
       "      <td>0.017549</td>\n",
       "      <td>1.000000</td>\n",
       "      <td>0.025622</td>\n",
       "      <td>0.049593</td>\n",
       "      <td>0.054420</td>\n",
       "      <td>-0.048520</td>\n",
       "      <td>-0.210567</td>\n",
       "    </tr>\n",
       "    <tr>\n",
       "      <th>X3 distance to the nearest MRT station</th>\n",
       "      <td>-0.013573</td>\n",
       "      <td>0.060880</td>\n",
       "      <td>0.025622</td>\n",
       "      <td>1.000000</td>\n",
       "      <td>-0.602519</td>\n",
       "      <td>-0.591067</td>\n",
       "      <td>-0.806317</td>\n",
       "      <td>-0.673613</td>\n",
       "    </tr>\n",
       "    <tr>\n",
       "      <th>X4 number of convenience stores</th>\n",
       "      <td>-0.012699</td>\n",
       "      <td>0.009635</td>\n",
       "      <td>0.049593</td>\n",
       "      <td>-0.602519</td>\n",
       "      <td>1.000000</td>\n",
       "      <td>0.444143</td>\n",
       "      <td>0.449099</td>\n",
       "      <td>0.571005</td>\n",
       "    </tr>\n",
       "    <tr>\n",
       "      <th>X5 latitude</th>\n",
       "      <td>-0.010110</td>\n",
       "      <td>0.035058</td>\n",
       "      <td>0.054420</td>\n",
       "      <td>-0.591067</td>\n",
       "      <td>0.444143</td>\n",
       "      <td>1.000000</td>\n",
       "      <td>0.412924</td>\n",
       "      <td>0.546307</td>\n",
       "    </tr>\n",
       "    <tr>\n",
       "      <th>X6 longitude</th>\n",
       "      <td>-0.011059</td>\n",
       "      <td>-0.041082</td>\n",
       "      <td>-0.048520</td>\n",
       "      <td>-0.806317</td>\n",
       "      <td>0.449099</td>\n",
       "      <td>0.412924</td>\n",
       "      <td>1.000000</td>\n",
       "      <td>0.523287</td>\n",
       "    </tr>\n",
       "    <tr>\n",
       "      <th>Y house price of unit area</th>\n",
       "      <td>-0.028587</td>\n",
       "      <td>0.087491</td>\n",
       "      <td>-0.210567</td>\n",
       "      <td>-0.673613</td>\n",
       "      <td>0.571005</td>\n",
       "      <td>0.546307</td>\n",
       "      <td>0.523287</td>\n",
       "      <td>1.000000</td>\n",
       "    </tr>\n",
       "  </tbody>\n",
       "</table>\n",
       "</div>"
      ],
      "text/plain": [
       "                                              No  X1 transaction date  \\\n",
       "No                                      1.000000            -0.048658   \n",
       "X1 transaction date                    -0.048658             1.000000   \n",
       "X2 house age                           -0.032808             0.017549   \n",
       "X3 distance to the nearest MRT station -0.013573             0.060880   \n",
       "X4 number of convenience stores        -0.012699             0.009635   \n",
       "X5 latitude                            -0.010110             0.035058   \n",
       "X6 longitude                           -0.011059            -0.041082   \n",
       "Y house price of unit area             -0.028587             0.087491   \n",
       "\n",
       "                                        X2 house age  \\\n",
       "No                                         -0.032808   \n",
       "X1 transaction date                         0.017549   \n",
       "X2 house age                                1.000000   \n",
       "X3 distance to the nearest MRT station      0.025622   \n",
       "X4 number of convenience stores             0.049593   \n",
       "X5 latitude                                 0.054420   \n",
       "X6 longitude                               -0.048520   \n",
       "Y house price of unit area                 -0.210567   \n",
       "\n",
       "                                        X3 distance to the nearest MRT station  \\\n",
       "No                                                                   -0.013573   \n",
       "X1 transaction date                                                   0.060880   \n",
       "X2 house age                                                          0.025622   \n",
       "X3 distance to the nearest MRT station                                1.000000   \n",
       "X4 number of convenience stores                                      -0.602519   \n",
       "X5 latitude                                                          -0.591067   \n",
       "X6 longitude                                                         -0.806317   \n",
       "Y house price of unit area                                           -0.673613   \n",
       "\n",
       "                                        X4 number of convenience stores  \\\n",
       "No                                                            -0.012699   \n",
       "X1 transaction date                                            0.009635   \n",
       "X2 house age                                                   0.049593   \n",
       "X3 distance to the nearest MRT station                        -0.602519   \n",
       "X4 number of convenience stores                                1.000000   \n",
       "X5 latitude                                                    0.444143   \n",
       "X6 longitude                                                   0.449099   \n",
       "Y house price of unit area                                     0.571005   \n",
       "\n",
       "                                        X5 latitude  X6 longitude  \\\n",
       "No                                        -0.010110     -0.011059   \n",
       "X1 transaction date                        0.035058     -0.041082   \n",
       "X2 house age                               0.054420     -0.048520   \n",
       "X3 distance to the nearest MRT station    -0.591067     -0.806317   \n",
       "X4 number of convenience stores            0.444143      0.449099   \n",
       "X5 latitude                                1.000000      0.412924   \n",
       "X6 longitude                               0.412924      1.000000   \n",
       "Y house price of unit area                 0.546307      0.523287   \n",
       "\n",
       "                                        Y house price of unit area  \n",
       "No                                                       -0.028587  \n",
       "X1 transaction date                                       0.087491  \n",
       "X2 house age                                             -0.210567  \n",
       "X3 distance to the nearest MRT station                   -0.673613  \n",
       "X4 number of convenience stores                           0.571005  \n",
       "X5 latitude                                               0.546307  \n",
       "X6 longitude                                              0.523287  \n",
       "Y house price of unit area                                1.000000  "
      ]
     },
     "execution_count": 4,
     "metadata": {},
     "output_type": "execute_result"
    }
   ],
   "source": [
    "df.corr()"
   ]
  },
  {
   "cell_type": "code",
   "execution_count": 5,
   "metadata": {
    "execution": {
     "iopub.execute_input": "2020-12-29T13:52:42.319025Z",
     "iopub.status.busy": "2020-12-29T13:52:42.318150Z",
     "iopub.status.idle": "2020-12-29T13:52:42.321790Z",
     "shell.execute_reply": "2020-12-29T13:52:42.322316Z"
    },
    "papermill": {
     "duration": 0.028926,
     "end_time": "2020-12-29T13:52:42.322477",
     "exception": false,
     "start_time": "2020-12-29T13:52:42.293551",
     "status": "completed"
    },
    "tags": []
   },
   "outputs": [
    {
     "data": {
      "text/plain": [
       "(414, 8)"
      ]
     },
     "execution_count": 5,
     "metadata": {},
     "output_type": "execute_result"
    }
   ],
   "source": [
    "df.shape"
   ]
  },
  {
   "cell_type": "markdown",
   "metadata": {
    "papermill": {
     "duration": 0.018975,
     "end_time": "2020-12-29T13:52:42.360916",
     "exception": false,
     "start_time": "2020-12-29T13:52:42.341941",
     "status": "completed"
    },
    "tags": []
   },
   "source": [
    "# Checking Null Values"
   ]
  },
  {
   "cell_type": "code",
   "execution_count": 6,
   "metadata": {
    "execution": {
     "iopub.execute_input": "2020-12-29T13:52:42.408388Z",
     "iopub.status.busy": "2020-12-29T13:52:42.407393Z",
     "iopub.status.idle": "2020-12-29T13:52:42.412180Z",
     "shell.execute_reply": "2020-12-29T13:52:42.412645Z"
    },
    "papermill": {
     "duration": 0.032388,
     "end_time": "2020-12-29T13:52:42.412784",
     "exception": false,
     "start_time": "2020-12-29T13:52:42.380396",
     "status": "completed"
    },
    "tags": []
   },
   "outputs": [
    {
     "data": {
      "text/plain": [
       "No                                        0\n",
       "X1 transaction date                       0\n",
       "X2 house age                              0\n",
       "X3 distance to the nearest MRT station    0\n",
       "X4 number of convenience stores           0\n",
       "X5 latitude                               0\n",
       "X6 longitude                              0\n",
       "Y house price of unit area                0\n",
       "dtype: int64"
      ]
     },
     "execution_count": 6,
     "metadata": {},
     "output_type": "execute_result"
    }
   ],
   "source": [
    "df.isnull().sum()"
   ]
  },
  {
   "cell_type": "markdown",
   "metadata": {
    "papermill": {
     "duration": 0.019645,
     "end_time": "2020-12-29T13:52:42.453156",
     "exception": false,
     "start_time": "2020-12-29T13:52:42.433511",
     "status": "completed"
    },
    "tags": []
   },
   "source": [
    "# HeatMap for Correlation"
   ]
  },
  {
   "cell_type": "code",
   "execution_count": 7,
   "metadata": {
    "execution": {
     "iopub.execute_input": "2020-12-29T13:52:42.502239Z",
     "iopub.status.busy": "2020-12-29T13:52:42.500355Z",
     "iopub.status.idle": "2020-12-29T13:52:43.047318Z",
     "shell.execute_reply": "2020-12-29T13:52:43.046628Z"
    },
    "papermill": {
     "duration": 0.574058,
     "end_time": "2020-12-29T13:52:43.047439",
     "exception": false,
     "start_time": "2020-12-29T13:52:42.473381",
     "status": "completed"
    },
    "tags": []
   },
   "outputs": [
    {
     "data": {
      "text/plain": [
       "<matplotlib.axes._subplots.AxesSubplot at 0x7f3a061c5c90>"
      ]
     },
     "execution_count": 7,
     "metadata": {},
     "output_type": "execute_result"
    },
    {
     "data": {
      "image/png": "[encoded data removed]",
      "text/plain": [
       "<Figure size 432x288 with 2 Axes>"
      ]
     },
     "metadata": {
      "needs_background": "light"
     },
     "output_type": "display_data"
    }
   ],
   "source": [
    "sns.heatmap(df.corr(), annot= True)"
   ]
  },
  {
   "cell_type": "markdown",
   "metadata": {
    "papermill": {
     "duration": 0.022112,
     "end_time": "2020-12-29T13:52:43.093412",
     "exception": false,
     "start_time": "2020-12-29T13:52:43.071300",
     "status": "completed"
    },
    "tags": []
   },
   "source": [
    "# Splitting Dependent and Independent Features"
   ]
  },
  {
   "cell_type": "code",
   "execution_count": 8,
   "metadata": {
    "execution": {
     "iopub.execute_input": "2020-12-29T13:52:43.153917Z",
     "iopub.status.busy": "2020-12-29T13:52:43.152915Z",
     "iopub.status.idle": "2020-12-29T13:52:43.156225Z",
     "shell.execute_reply": "2020-12-29T13:52:43.156827Z"
    },
    "papermill": {
     "duration": 0.039537,
     "end_time": "2020-12-29T13:52:43.156982",
     "exception": false,
     "start_time": "2020-12-29T13:52:43.117445",
     "status": "completed"
    },
    "tags": []
   },
   "outputs": [],
   "source": [
    "X = df.iloc[:,:-1]\n",
    "y = df.iloc[:,-1]"
   ]
  },
  {
   "cell_type": "markdown",
   "metadata": {
    "papermill": {
     "duration": 0.022146,
     "end_time": "2020-12-29T13:52:43.202201",
     "exception": false,
     "start_time": "2020-12-29T13:52:43.180055",
     "status": "completed"
    },
    "tags": []
   },
   "source": [
    "# Splitting Dataset into Training and Testing arrays"
   ]
  },
  {
   "cell_type": "code",
   "execution_count": 9,
   "metadata": {
    "execution": {
     "iopub.execute_input": "2020-12-29T13:52:43.253942Z",
     "iopub.status.busy": "2020-12-29T13:52:43.253287Z",
     "iopub.status.idle": "2020-12-29T13:52:43.361763Z",
     "shell.execute_reply": "2020-12-29T13:52:43.360941Z"
    },
    "papermill": {
     "duration": 0.137007,
     "end_time": "2020-12-29T13:52:43.361906",
     "exception": false,
     "start_time": "2020-12-29T13:52:43.224899",
     "status": "completed"
    },
    "tags": []
   },
   "outputs": [],
   "source": [
    "from sklearn.model_selection import train_test_split\n",
    "X_train, X_test, y_train, y_test = train_test_split(X,y, test_size = 0.05,random_state = 0)"
   ]
  },
  {
   "cell_type": "markdown",
   "metadata": {
    "papermill": {
     "duration": 0.022379,
     "end_time": "2020-12-29T13:52:43.407444",
     "exception": false,
     "start_time": "2020-12-29T13:52:43.385065",
     "status": "completed"
    },
    "tags": []
   },
   "source": [
    "# Training Model"
   ]
  },
  {
   "cell_type": "code",
   "execution_count": 10,
   "metadata": {
    "execution": {
     "iopub.execute_input": "2020-12-29T13:52:43.458644Z",
     "iopub.status.busy": "2020-12-29T13:52:43.457977Z",
     "iopub.status.idle": "2020-12-29T13:52:43.600827Z",
     "shell.execute_reply": "2020-12-29T13:52:43.600013Z"
    },
    "papermill": {
     "duration": 0.170784,
     "end_time": "2020-12-29T13:52:43.600954",
     "exception": false,
     "start_time": "2020-12-29T13:52:43.430170",
     "status": "completed"
    },
    "tags": []
   },
   "outputs": [
    {
     "data": {
      "text/plain": [
       "LinearRegression()"
      ]
     },
     "execution_count": 10,
     "metadata": {},
     "output_type": "execute_result"
    }
   ],
   "source": [
    "from sklearn.linear_model import LinearRegression\n",
    "reg = LinearRegression()\n",
    "reg.fit (X_train, y_train)"
   ]
  },
  {
   "cell_type": "markdown",
   "metadata": {
    "papermill": {
     "duration": 0.023001,
     "end_time": "2020-12-29T13:52:43.647409",
     "exception": false,
     "start_time": "2020-12-29T13:52:43.624408",
     "status": "completed"
    },
    "tags": []
   },
   "source": [
    "# Regression Coefficient"
   ]
  },
  {
   "cell_type": "code",
   "execution_count": 11,
   "metadata": {
    "execution": {
     "iopub.execute_input": "2020-12-29T13:52:43.699913Z",
     "iopub.status.busy": "2020-12-29T13:52:43.698970Z",
     "iopub.status.idle": "2020-12-29T13:52:43.702717Z",
     "shell.execute_reply": "2020-12-29T13:52:43.703343Z"
    },
    "papermill": {
     "duration": 0.032752,
     "end_time": "2020-12-29T13:52:43.703487",
     "exception": false,
     "start_time": "2020-12-29T13:52:43.670735",
     "status": "completed"
    },
    "tags": []
   },
   "outputs": [
    {
     "data": {
      "text/plain": [
       "array([-3.28281240e-03,  5.18980590e+00, -2.70389960e-01, -4.34076666e-03,\n",
       "        1.16918512e+00,  2.26156387e+02, -5.63794054e+00])"
      ]
     },
     "execution_count": 11,
     "metadata": {},
     "output_type": "execute_result"
    }
   ],
   "source": [
    "reg.coef_"
   ]
  },
  {
   "cell_type": "markdown",
   "metadata": {
    "papermill": {
     "duration": 0.023134,
     "end_time": "2020-12-29T13:52:43.750126",
     "exception": false,
     "start_time": "2020-12-29T13:52:43.726992",
     "status": "completed"
    },
    "tags": []
   },
   "source": [
    "# Testing Model"
   ]
  },
  {
   "cell_type": "code",
   "execution_count": 12,
   "metadata": {
    "execution": {
     "iopub.execute_input": "2020-12-29T13:52:43.807609Z",
     "iopub.status.busy": "2020-12-29T13:52:43.806668Z",
     "iopub.status.idle": "2020-12-29T13:52:43.811605Z",
     "shell.execute_reply": "2020-12-29T13:52:43.812070Z"
    },
    "papermill": {
     "duration": 0.037958,
     "end_time": "2020-12-29T13:52:43.812214",
     "exception": false,
     "start_time": "2020-12-29T13:52:43.774256",
     "status": "completed"
    },
    "tags": []
   },
   "outputs": [
    {
     "data": {
      "text/plain": [
       "array([39.09184855, 12.82614768, 41.76173828, 12.09424855, 41.68156196,\n",
       "       39.36666405, 40.57898977, 33.8846898 , 50.05358688, 45.550874  ,\n",
       "       45.51385485, 40.95300388, 38.33135922, 39.89670897, 46.59039145,\n",
       "       38.21070994, 39.78636257, 40.74697578, 41.30341084, 42.31380145,\n",
       "       49.36104125])"
      ]
     },
     "execution_count": 12,
     "metadata": {},
     "output_type": "execute_result"
    }
   ],
   "source": [
    "y_pred = reg.predict(X_test)\n",
    "y_pred"
   ]
  },
  {
   "cell_type": "markdown",
   "metadata": {
    "papermill": {
     "duration": 0.023965,
     "end_time": "2020-12-29T13:52:43.860924",
     "exception": false,
     "start_time": "2020-12-29T13:52:43.836959",
     "status": "completed"
    },
    "tags": []
   },
   "source": [
    "# R2-Score"
   ]
  },
  {
   "cell_type": "code",
   "execution_count": 13,
   "metadata": {
    "execution": {
     "iopub.execute_input": "2020-12-29T13:52:43.917266Z",
     "iopub.status.busy": "2020-12-29T13:52:43.916294Z",
     "iopub.status.idle": "2020-12-29T13:52:43.921020Z",
     "shell.execute_reply": "2020-12-29T13:52:43.920400Z"
    },
    "papermill": {
     "duration": 0.036146,
     "end_time": "2020-12-29T13:52:43.921144",
     "exception": false,
     "start_time": "2020-12-29T13:52:43.884998",
     "status": "completed"
    },
    "tags": []
   },
   "outputs": [
    {
     "name": "stdout",
     "output_type": "stream",
     "text": [
      "r2 Score :  0.7065810721724328\n"
     ]
    }
   ],
   "source": [
    "from sklearn.metrics import r2_score\n",
    "print('r2 Score : ', r2_score(y_test, y_pred))"
   ]
  },
  {
   "cell_type": "markdown",
   "metadata": {
    "papermill": {
     "duration": 0.024431,
     "end_time": "2020-12-29T13:52:43.970484",
     "exception": false,
     "start_time": "2020-12-29T13:52:43.946053",
     "status": "completed"
    },
    "tags": []
   },
   "source": [
    "# Visualizing Training DataSet Result "
   ]
  },
  {
   "cell_type": "code",
   "execution_count": 14,
   "metadata": {
    "execution": {
     "iopub.execute_input": "2020-12-29T13:52:44.040378Z",
     "iopub.status.busy": "2020-12-29T13:52:44.039334Z",
     "iopub.status.idle": "2020-12-29T13:52:44.353452Z",
     "shell.execute_reply": "2020-12-29T13:52:44.352712Z"
    },
    "papermill": {
     "duration": 0.357498,
     "end_time": "2020-12-29T13:52:44.353575",
     "exception": false,
     "start_time": "2020-12-29T13:52:43.996077",
     "status": "completed"
    },
    "tags": []
   },
   "outputs": [
    {
     "data": {
      "image/png": "[encoded data removed]",
      "text/plain": [
       "<Figure size 432x288 with 1 Axes>"
      ]
     },
     "metadata": {
      "needs_background": "light"
     },
     "output_type": "display_data"
    }
   ],
   "source": [
    "sns.regplot(x=\"X2 house age\", y=\"Y house price of unit area\", data=df);"
   ]
  },
  {
   "cell_type": "code",
   "execution_count": 15,
   "metadata": {
    "execution": {
     "iopub.execute_input": "2020-12-29T13:52:44.416224Z",
     "iopub.status.busy": "2020-12-29T13:52:44.411702Z",
     "iopub.status.idle": "2020-12-29T13:52:44.790468Z",
     "shell.execute_reply": "2020-12-29T13:52:44.789815Z"
    },
    "papermill": {
     "duration": 0.411007,
     "end_time": "2020-12-29T13:52:44.790620",
     "exception": false,
     "start_time": "2020-12-29T13:52:44.379613",
     "status": "completed"
    },
    "tags": []
   },
   "outputs": [
    {
     "data": {
      "image/png": "[encoded data removed]",
      "text/plain": [
       "<Figure size 432x288 with 1 Axes>"
      ]
     },
     "metadata": {
      "needs_background": "light"
     },
     "output_type": "display_data"
    }
   ],
   "source": [
    "sns.regplot(y=\"X3 distance to the nearest MRT station\", x=\"Y house price of unit area\", data=df);"
   ]
  },
  {
   "cell_type": "code",
   "execution_count": null,
   "metadata": {
    "papermill": {
     "duration": 0.026961,
     "end_time": "2020-12-29T13:52:44.848473",
     "exception": false,
     "start_time": "2020-12-29T13:52:44.821512",
     "status": "completed"
    },
    "tags": []
   },
   "outputs": [],
   "source": []
  }
 ],
 "metadata": {
  "kernelspec": {
   "display_name": "Python 3",
   "language": "python",
   "name": "python3"
  },
  "language_info": {
   "codemirror_mode": {
    "name": "ipython",
    "version": 3
   },
   "file_extension": ".py",
   "mimetype": "text/x-python",
   "name": "python",
   "nbconvert_exporter": "python",
   "pygments_lexer": "ipython3",
   "version": "3.7.6"
  },
  "papermill": {
   "duration": 8.781371,
   "end_time": "2020-12-29T13:52:44.983462",
   "environment_variables": {},
   "exception": null,
   "input_path": "__notebook__.ipynb",
   "output_path": "__notebook__.ipynb",
   "parameters": {},
   "start_time": "2020-12-29T13:52:36.202091",
   "version": "2.1.0"
  }
 },
 "nbformat": 4,
 "nbformat_minor": 4
}
